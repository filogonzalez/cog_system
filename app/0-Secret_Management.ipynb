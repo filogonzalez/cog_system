{
 "cells": [
  {
   "cell_type": "markdown",
   "metadata": {
    "application/vnd.databricks.v1+cell": {
     "cellMetadata": {},
     "inputWidgets": {},
     "nuid": "b4a37bad-dac9-4c78-a455-ccfddc72bcdf",
     "showTitle": false,
     "tableResultSettingsMap": {},
     "title": ""
    }
   },
   "source": [
    "Run once to create scope with secret and leverage it for API calls. You may also find code to run it in web terminal/bash in https://docs.databricks.com/en/security/secrets/index.html#language-Databricks%C2%A0SDK%C2%A0for%C2%A0Python"
   ]
  },
  {
   "cell_type": "markdown",
   "metadata": {
    "application/vnd.databricks.v1+cell": {
     "cellMetadata": {},
     "inputWidgets": {},
     "nuid": "5b39ec23-fdbd-4398-8bf2-ce86911547df",
     "showTitle": false,
     "tableResultSettingsMap": {},
     "title": ""
    }
   },
   "source": [
    "# REST API:"
   ]
  },
  {
   "cell_type": "code",
   "execution_count": 0,
   "metadata": {
    "application/vnd.databricks.v1+cell": {
     "cellMetadata": {
      "byteLimit": 2048000,
      "rowLimit": 10000
     },
     "inputWidgets": {},
     "nuid": "7256bafc-2089-4f50-bb2b-cb6d52f573e2",
     "showTitle": false,
     "tableResultSettingsMap": {},
     "title": ""
    }
   },
   "outputs": [],
   "source": [
    "import requests\n",
    "import os\n",
    "from databricks.sdk import WorkspaceClient\n",
    "\n",
    "# Databricks workspace and authentication details\n",
    "DATABRICKS_INSTANCE = dbutils.notebook.entry_point.getDbutils().notebook().getContext()\\\n",
    "                                                            .apiUrl().getOrElse(None)  # Replace with your Databricks workspace URL\n",
    "TOKEN = dbutils.notebook.entry_point.getDbutils().notebook().getContext()\\\n",
    "                                                            .apiToken().getOrElse(None)  # Replace with your Databricks personal access token or the service principal that can make api calls\n",
    "\n",
    "# Set the environment variables for authentication\n",
    "os.environ['DATABRICKS_HOST'] = DATABRICKS_INSTANCE\n",
    "os.environ['DATABRICKS_TOKEN'] = TOKEN"
   ]
  },
  {
   "cell_type": "code",
   "execution_count": 0,
   "metadata": {
    "application/vnd.databricks.v1+cell": {
     "cellMetadata": {
      "byteLimit": 2048000,
      "rowLimit": 10000
     },
     "inputWidgets": {},
     "nuid": "12cff21f-394f-481d-b11c-20bd60b2ae24",
     "showTitle": false,
     "tableResultSettingsMap": {},
     "title": ""
    }
   },
   "outputs": [],
   "source": [
    "# API endpoint\n",
    "url = f\"{DATABRICKS_INSTANCE}/api/2.0/secrets/scopes/create\"\n",
    "\n",
    "# Define the request payload\n",
    "payload = {\n",
    "    \"scope\": \"cog_system\",  # Replace with your desired scope name\n",
    "    \"initial_manage_principal\": \"users\",  # Options: \"users\", \"admins\", or a specific user\n",
    "    \"scope_backend_type\": \"DATABRICKS\"  # Options: \"DATABRICKS\" or \"AZURE_KEYVAULT\"\n",
    "}\n",
    "\n",
    "# Headers\n",
    "headers = {\n",
    "    \"Authorization\": f\"Bearer {TOKEN}\",\n",
    "    \"Content-Type\": \"application/json\"\n",
    "}\n",
    "\n",
    "# Make the API request\n",
    "response = requests.post(url, json=payload, headers=headers)\n",
    "\n",
    "# Print response\n",
    "if response.status_code == 200:\n",
    "    print(\"Secret scope created successfully!\")\n",
    "else:\n",
    "    print(f\"Error: {response.status_code}, {response.text}\")\n"
   ]
  },
  {
   "cell_type": "code",
   "execution_count": 0,
   "metadata": {
    "application/vnd.databricks.v1+cell": {
     "cellMetadata": {
      "byteLimit": 2048000,
      "rowLimit": 10000
     },
     "inputWidgets": {},
     "nuid": "de9ef29b-463e-4d4c-8e63-32daa75b0083",
     "showTitle": false,
     "tableResultSettingsMap": {},
     "title": ""
    }
   },
   "outputs": [],
   "source": [
    "# API endpoint\n",
    "url = f\"{DATABRICKS_INSTANCE}/api/2.0/secrets/scopes/list\"\n",
    "\n",
    "# Headers\n",
    "headers = {\n",
    "    \"Authorization\": f\"Bearer {TOKEN}\",\n",
    "    \"Content-Type\": \"application/json\"\n",
    "}\n",
    "\n",
    "# Make the API request\n",
    "response = requests.get(url, headers=headers)\n",
    "\n",
    "# Print response\n",
    "if response.status_code == 200:\n",
    "    print(f\"Secret scope list retrieved successfully! \\n {response.text}\")\n",
    "else:\n",
    "    print(f\"Error: {response.status_code}, {response.text}\")\n"
   ]
  },
  {
   "cell_type": "code",
   "execution_count": 0,
   "metadata": {
    "application/vnd.databricks.v1+cell": {
     "cellMetadata": {
      "byteLimit": 2048000,
      "rowLimit": 10000
     },
     "inputWidgets": {},
     "nuid": "b0454595-16af-49ee-ae9f-da89ef45335a",
     "showTitle": false,
     "tableResultSettingsMap": {},
     "title": ""
    }
   },
   "outputs": [],
   "source": [
    "# API endpoint\n",
    "url = f\"{DATABRICKS_INSTANCE}/api/2.0/secrets/scopes/delete\"\n",
    "\n",
    "# Define the request payload\n",
    "payload = {\n",
    "    \"scope\": \"my-secret-scope\"\n",
    "}\n",
    "\n",
    "# Headers\n",
    "headers = {\n",
    "    \"Authorization\": f\"Bearer {TOKEN}\",\n",
    "    \"Content-Type\": \"application/json\"\n",
    "}\n",
    "\n",
    "# Make the API request\n",
    "response = requests.post(url, json=payload, headers=headers)\n",
    "\n",
    "# Print response\n",
    "if response.status_code == 200:\n",
    "    print(f\"Secret scope deleted successfully!\")\n",
    "else:\n",
    "    print(f\"Error: {response.status_code}, {response.text}\")\n"
   ]
  },
  {
   "cell_type": "code",
   "execution_count": 0,
   "metadata": {
    "application/vnd.databricks.v1+cell": {
     "cellMetadata": {
      "byteLimit": 2048000,
      "rowLimit": 10000
     },
     "inputWidgets": {},
     "nuid": "0e03b5ca-396b-422f-b0ce-5ddf81f6acef",
     "showTitle": false,
     "tableResultSettingsMap": {},
     "title": ""
    }
   },
   "outputs": [],
   "source": [
    "w = WorkspaceClient()\n",
    "\n",
    "w.secrets.put_secret(\"cog_system\",\"accnt_admin_sp\",string_value =\"<my_secret_id>\")"
   ]
  },
  {
   "cell_type": "code",
   "execution_count": 0,
   "metadata": {
    "application/vnd.databricks.v1+cell": {
     "cellMetadata": {
      "byteLimit": 2048000,
      "rowLimit": 10000
     },
     "inputWidgets": {},
     "nuid": "b3a4f8ca-5300-4aea-aa77-6c8218007553",
     "showTitle": false,
     "tableResultSettingsMap": {},
     "title": ""
    }
   },
   "outputs": [],
   "source": [
    "password = dbutils.secrets.get(scope = \"cog_system\", key = \"accnt_admin_sp\")\n",
    "print(password)"
   ]
  }
 ],
 "metadata": {
  "application/vnd.databricks.v1+notebook": {
   "computePreferences": null,
   "dashboards": [],
   "environmentMetadata": {
    "base_environment": "",
    "client": "1"
   },
   "language": "python",
   "notebookMetadata": {
    "pythonIndentUnit": 4
   },
   "notebookName": "0-Secret_Management",
   "widgets": {}
  },
  "language_info": {
   "name": "python"
  }
 },
 "nbformat": 4,
 "nbformat_minor": 0
}
